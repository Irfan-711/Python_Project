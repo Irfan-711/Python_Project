{
 "cells": [
  {
   "attachments": {},
   "cell_type": "markdown",
   "metadata": {},
   "source": [
    "## ATM Machine Project Report."
   ]
  },
  {
   "attachments": {},
   "cell_type": "markdown",
   "metadata": {},
   "source": [
    "  1.Talking about the system ATM Program In Python Using Function, it contains various functions which include Account Statement, Withdrawing, Depositing amount and changing the pin."
   ]
  },
  {
   "attachments": {},
   "cell_type": "markdown",
   "metadata": {},
   "source": [
    "2. Here, at first the user has to enter an existing username, when the username matches the system proceed toward the next procedure i.e asking pin number.\n"
   ]
  },
  {
   "attachments": {},
   "cell_type": "markdown",
   "metadata": {},
   "source": [
    "3. When a user passes all these sign-in procedures, he/she can use all those features. It is too easy to use, he/she can check their respective account statements."
   ]
  },
  {
   "attachments": {},
   "cell_type": "markdown",
   "metadata": {},
   "source": [
    "4. A ATM Software In Python is a simple console based ATM simulator provides the simple account balance management of a respective account. It contains all the essential features."
   ]
  },
  {
   "attachments": {},
   "cell_type": "markdown",
   "metadata": {},
   "source": [
    "5. To start creating ATM Program In Python, make sure that you have Pycharm/VS Code IDE installed in your computer."
   ]
  },
  {
   "attachments": {},
   "cell_type": "markdown",
   "metadata": {},
   "source": [
    "## Steps on how to create a ATM Program In Python :"
   ]
  },
  {
   "attachments": {},
   "cell_type": "markdown",
   "metadata": {},
   "source": [
    "- Step 1: Create a project name.\n",
    "First open Pycharm IDE and then create a “project name” after creating a project name click the “create” button."
   ]
  },
  {
   "attachments": {},
   "cell_type": "markdown",
   "metadata": {},
   "source": [
    "- Step 2: Create a python file.\n",
    "Second after creating a project name, “right click” your project name and then click “new” after that click the “python file“."
   ]
  },
  {
   "attachments": {},
   "cell_type": "markdown",
   "metadata": {},
   "source": [
    "- Step 3: Name your python file.\n",
    "Third after creating a python file, Name your python file after that click “enter“."
   ]
  },
  {
   "attachments": {},
   "cell_type": "markdown",
   "metadata": {},
   "source": [
    "## ATM Machine Code & Notes."
   ]
  },
  {
   "attachments": {},
   "cell_type": "markdown",
   "metadata": {},
   "source": [
    "1.The Code Given Below Is For Importing Modules"
   ]
  },
  {
   "attachments": {},
   "cell_type": "markdown",
   "metadata": {},
   "source": [
    "users = ['user1', 'user2', 'user3']\n",
    "pins = ['1234', '2222', '3333']\n",
    "amounts = [1000, 2000, 3000]\n",
    "count = 0"
   ]
  },
  {
   "attachments": {},
   "cell_type": "markdown",
   "metadata": {},
   "source": [
    "2. In this module which is declaring the variables and its value to be call in public."
   ]
  },
  {
   "attachments": {},
   "cell_type": "markdown",
   "metadata": {},
   "source": [
    "import getpass\n",
    "import string\n",
    "import os\n",
    "\n",
    "# creating a lists of users, their PINs and bank statements\n",
    "users = ['user1', 'user2', 'user3']\n",
    "pins = ['1234', '2222', '3333']\n",
    "amounts = [1000, 2000, 3000]\n",
    "count = 0\n",
    "# while loop checks existance of the enterd username\n",
    "print(\"****************************************************************************\")\n",
    "print(\"*                                                                          *\")\n",
    "print(\"*                   Welcome to  ATM SYSTEM                    *\")\n",
    "print(\"*                                                                          *\")\n",
    "print(\"****************************************************************************\")\n",
    "while True:\n",
    "\tuser = input('\\nENTER USER NAME: ')\n",
    "\tuser = user.lower()\n",
    "\tif user in users:\n",
    "\t\tif user == users[0]:\n",
    "\t\t\tn = 0\n",
    "\t\telif user == users[1]:\n",
    "\t\t\tn = 1\n",
    "\t\telse:\n",
    "\t\t\tn = 2\n",
    "\t\tbreak\n",
    "\telse:\n",
    "\t\tprint('----------------')\n",
    "\t\tprint('****************')\n",
    "\t\tprint('INVALID USERNAME')\n",
    "\t\tprint('****************')\n",
    "\t\tprint('----------------')\n",
    "\n",
    "# comparing pin\n",
    "while count < 3:\n",
    "\tprint('------------------')\n",
    "\tprint('******************')\n",
    "\tpin = input('PLEASE ENTER PIN: ')\n",
    "\tprint('******************')\n",
    "\tprint('------------------')\n",
    "\tif pin.isdigit():\n",
    "\t\tif user == 'user1':\n",
    "\t\t\tif pin == pins[0]:\n",
    "\t\t\t\tbreak\n",
    "\t\t\telse:\n",
    "\t\t\t\tcount += 1\n",
    "\t\t\t\tprint('-----------')\n",
    "\t\t\t\tprint('***********')\n",
    "\t\t\t\tprint('INVALID PIN')\n",
    "\t\t\t\tprint('***********')\n",
    "\t\t\t\tprint('-----------')\n",
    "\t\t\t\tprint()\n",
    "\n",
    "\t\tif user == 'user2':\n",
    "\t\t\tif pin == pins[1]:\n",
    "\t\t\t\tbreak\n",
    "\t\t\telse:\n",
    "\t\t\t\tcount += 1\n",
    "\t\t\t\tprint('-----------')\n",
    "\t\t\t\tprint('***********')\n",
    "\t\t\t\tprint('INVALID PIN')\n",
    "\t\t\t\tprint('***********')\n",
    "\t\t\t\tprint('-----------')\n",
    "\t\t\t\tprint()\n",
    "\t\t\t\t\n",
    "\t\tif user == 'user3':\n",
    "\t\t\tif pin == pins[2]:\n",
    "\t\t\t\tbreak\n",
    "\t\t\telse:\n",
    "\t\t\t\tcount += 1\n",
    "\t\t\t\tprint('-----------')\n",
    "\t\t\t\tprint('***********')\n",
    "\t\t\t\tprint('INVALID PIN')\n",
    "\t\t\t\tprint('***********')\n",
    "\t\t\t\tprint('-----------')\n",
    "\t\t\t\tprint()\n",
    "\telse:\n",
    "\t\tprint('------------------------')\n",
    "\t\tprint('************************')\n",
    "\t\tprint('PIN CONSISTS OF 4 DIGITS')\n",
    "\t\tprint('************************')\n",
    "\t\tprint('------------------------')\n",
    "\t\tcount += 1\n",
    "\t\n",
    "# in case of a valid pin- continuing, or exiting\n",
    "if count == 3:\n",
    "\tprint('-----------------------------------')\n",
    "\tprint('***********************************')\n",
    "\tprint('3 UNSUCCESFUL PIN ATTEMPTS, EXITING')\n",
    "\tprint('!!!!!YOUR CARD HAS BEEN LOCKED!!!!!')\n",
    "\tprint('***********************************')\n",
    "\tprint('-----------------------------------')\n",
    "\texit()\n",
    "\n",
    "print('-------------------------')\n",
    "print('*************************')\n",
    "print('LOGIN SUCCESFUL, CONTINUE')\n",
    "print('*************************')\n",
    "print('-------------------------')\n",
    "print()\n",
    "print('--------------------------')\n",
    "print('**************************')\t\n",
    "print(str.capitalize(users[n]), 'welcome to ATM')\n",
    "print('**************************')\n",
    "print('----------ATM SYSTEM-----------')\n",
    "# Main menu\n",
    "while True:\n",
    "\t#os.system('clear')\n",
    "\tprint('-------------------------------')\n",
    "\tprint('*******************************')\n",
    "\tresponse = input('SELECT FROM FOLLOWING OPTIONS: \\nStatement__(S) \\nWithdraw___(W) \\nLodgement__(L)  \\nChange PIN_(P)  \\nQuit_______(Q) \\nType The Letter Of Your Choices: ').lower()\n",
    "\tprint('*******************************')\n",
    "\tprint('-------------------------------')\n",
    "\tvalid_responses = ['s', 'w', 'l', 'p', 'q']\n",
    "\tresponse = response.lower()\n",
    "\tif response == 's':\n",
    "\t\tprint('---------------------------------------------')\n",
    "\t\tprint('*********************************************')\n",
    "\t\tprint(str.capitalize(users[n]), 'YOU HAVE ', amounts[n],'EURO ON YOUR ACCOUNT.')\n",
    "\t\tprint('*********************************************')\n",
    "\t\tprint('---------------------------------------------')\n",
    "\t\t\n",
    "\telif response == 'w':\n",
    "\t\tprint('---------------------------------------------')\n",
    "\t\tprint('*********************************************')\n",
    "\t\tcash_out = int(input('ENTER AMOUNT YOU WOULD LIKE TO WITHDRAW: '))\n",
    "\t\tprint('*********************************************')\n",
    "\t\tprint('---------------------------------------------')\n",
    "\t\tif cash_out%10 != 0:\n",
    "\t\t\tprint('------------------------------------------------------')\n",
    "\t\t\tprint('******************************************************')\n",
    "\t\t\tprint('AMOUNT YOU WANT TO WITHDRAW MUST TO MATCH 10 EURO NOTES')\n",
    "\t\t\tprint('******************************************************')\n",
    "\t\t\tprint('------------------------------------------------------')\n",
    "\t\telif cash_out > amounts[n]:\n",
    "\t\t\tprint('-----------------------------')\n",
    "\t\t\tprint('*****************************')\n",
    "\t\t\tprint('YOU HAVE INSUFFICIENT BALANCE')\n",
    "\t\t\tprint('*****************************')\n",
    "\t\t\tprint('-----------------------------')\n",
    "\t\telse:\n",
    "\t\t\tamounts[n] = amounts[n] - cash_out\n",
    "\t\t\tprint('-----------------------------------')\n",
    "\t\t\tprint('***********************************')\n",
    "\t\t\tprint('YOUR NEW BALANCE IS: ', amounts[n], 'EURO')\n",
    "\t\t\tprint('***********************************')\n",
    "\t\t\tprint('-----------------------------------')\n",
    "\t\t\t\n",
    "\telif response == 'l':\n",
    "\t\tprint()\n",
    "\t\tprint('---------------------------------------------')\n",
    "\t\tprint('*********************************************')\n",
    "\t\tcash_in = int(input('ENTER AMOUNT YOU WANT TO LODGE: '))\n",
    "\t\tprint('*********************************************')\n",
    "\t\tprint('---------------------------------------------')\n",
    "\t\tprint()\n",
    "\t\tif cash_in%10 != 0:\n",
    "\t\t\tprint('----------------------------------------------------')\n",
    "\t\t\tprint('****************************************************')\n",
    "\t\t\tprint('AMOUNT YOU WANT TO LODGE MUST TO MATCH 10 EURO NOTES')\n",
    "\t\t\tprint('****************************************************')\n",
    "\t\t\tprint('----------------------------------------------------')\n",
    "\t\telse:\n",
    "\t\t\tamounts[n] = amounts[n] + cash_in\n",
    "\t\t\tprint('----------------------------------------')\n",
    "\t\t\tprint('****************************************')\n",
    "\t\t\tprint('YOUR NEW BALANCE IS: ', amounts[n], 'EURO')\n",
    "\t\t\tprint('****************************************')\n",
    "\t\t\tprint('----------------------------------------')\n",
    "\telif response == 'p':\n",
    "\t\tprint('-----------------------------')\n",
    "\t\tprint('*****************************')\n",
    "\t\tnew_pin = str(getpass.getpass('ENTER A NEW PIN: '))\n",
    "\t\tprint('*****************************')\n",
    "\t\tprint('-----------------------------')\n",
    "\t\tif new_pin.isdigit() and new_pin != pins[n] and len(new_pin) == 4:\n",
    "\t\t\tprint('------------------')\n",
    "\t\t\tprint('******************')\n",
    "\t\t\tnew_ppin = str(getpass.getpass('CONFIRM NEW PIN: '))\n",
    "\t\t\tprint('*******************')\n",
    "\t\t\tprint('-------------------')\n",
    "\t\t\tif new_ppin != new_pin:\n",
    "\t\t\t\tprint('------------')\n",
    "\t\t\t\tprint('************')\n",
    "\t\t\t\tprint('PIN MISMATCH')\n",
    "\t\t\t\tprint('************')\n",
    "\t\t\t\tprint('------------')\n",
    "\t\t\telse:\n",
    "\t\t\t\tpins[n] = new_pin\n",
    "\t\t\t\tprint('NEW PIN SAVED')\n",
    "\t\telse:\n",
    "\t\t\tprint('-------------------------------------')\n",
    "\t\t\tprint('*************************************')\n",
    "\t\t\tprint('   NEW PIN MUST CONSIST OF 4 DIGITS \\nAND MUST BE DIFFERENT TO PREVIOUS PIN')\n",
    "\t\t\tprint('*************************************')\n",
    "\t\t\tprint('-------------------------------------')\n",
    "\telif response == 'q':\n",
    "\t\texit()\n",
    "                \n",
    "\telse:\n",
    "\t\tprint('------------------')\n",
    "\t\tprint('******************')\n",
    "\t\tprint('RESPONSE NOT VALID')\n",
    "\t\tprint('******************')\n",
    "\t\tprint('------------------')\n",
    "\n",
    "\n",
    "os.system('pause')\n",
    "\n",
    "\n",
    "\n",
    "\n",
    "\n",
    "\n",
    "\n",
    "\n",
    "\n",
    "\n",
    "\n",
    "\n",
    "\n",
    "\n",
    "\n",
    "\n",
    "\n",
    "\n",
    "\n",
    "\n"
   ]
  },
  {
   "attachments": {},
   "cell_type": "markdown",
   "metadata": {},
   "source": []
  }
 ],
 "metadata": {
  "kernelspec": {
   "display_name": "Python 3",
   "language": "python",
   "name": "python3"
  },
  "language_info": {
   "codemirror_mode": {
    "name": "ipython",
    "version": 3
   },
   "file_extension": ".py",
   "mimetype": "text/x-python",
   "name": "python",
   "nbconvert_exporter": "python",
   "pygments_lexer": "ipython3",
   "version": "3.11.1 (tags/v3.11.1:a7a450f, Dec  6 2022, 19:58:39) [MSC v.1934 64 bit (AMD64)]"
  },
  "orig_nbformat": 4,
  "vscode": {
   "interpreter": {
    "hash": "c08c684531a343445bb7cc7dbdb7686f830b27cbf5bd2b30effb9a47a18cc5d9"
   }
  }
 },
 "nbformat": 4,
 "nbformat_minor": 2
}
